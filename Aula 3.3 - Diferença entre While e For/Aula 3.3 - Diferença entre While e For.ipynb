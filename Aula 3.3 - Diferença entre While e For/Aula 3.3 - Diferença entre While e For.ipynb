{
 "cells": [
  {
   "cell_type": "code",
   "execution_count": null,
   "metadata": {},
   "outputs": [],
   "source": [
    "# O Que é o While?"
   ]
  },
  {
   "cell_type": "code",
   "execution_count": 6,
   "metadata": {},
   "outputs": [
    {
     "name": "stdout",
     "output_type": "stream",
     "text": [
      "R\n",
      "o\n",
      "b\n",
      "s\n",
      "o\n",
      "n\n",
      "Fim do while\n"
     ]
    }
   ],
   "source": [
    "# Como funciona o while\n",
    "#for i in \"Robson\":\n",
    "#    print(i)\n",
    "    \n",
    "#len(\"Robson\")\n",
    "\n",
    "i = 0\n",
    "\n",
    "while i < len(\"Robson\"):\n",
    "    print(\"Robson\"[i])\n",
    "    i += 1\n",
    "else:\n",
    "    print(\"Fim do while\")\n",
    "    "
   ]
  },
  {
   "cell_type": "code",
   "execution_count": null,
   "metadata": {},
   "outputs": [],
   "source": [
    "# O que é um objeto iterable (por cima)"
   ]
  },
  {
   "cell_type": "code",
   "execution_count": 5,
   "metadata": {},
   "outputs": [
    {
     "name": "stdout",
     "output_type": "stream",
     "text": [
      "1\n",
      "2\n",
      "3\n"
     ]
    }
   ],
   "source": [
    "# Diferença entre uso do while e for\n",
    "\n",
    "for i in [1, 2, 3]:\n",
    "    print(i)\n"
   ]
  }
 ],
 "metadata": {
  "kernelspec": {
   "display_name": "Python 3",
   "language": "python",
   "name": "python3"
  },
  "language_info": {
   "codemirror_mode": {
    "name": "ipython",
    "version": 3
   },
   "file_extension": ".py",
   "mimetype": "text/x-python",
   "name": "python",
   "nbconvert_exporter": "python",
   "pygments_lexer": "ipython3",
   "version": "3.6.8"
  }
 },
 "nbformat": 4,
 "nbformat_minor": 2
}
