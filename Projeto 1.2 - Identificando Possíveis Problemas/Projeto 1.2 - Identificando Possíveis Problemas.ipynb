{
 "cells": [
  {
   "cell_type": "markdown",
   "metadata": {},
   "source": [
    "![teste](nomecachaceiro.png)"
   ]
  },
  {
   "cell_type": "code",
   "execution_count": 46,
   "metadata": {},
   "outputs": [],
   "source": [
    "# Variáveis de saida\n",
    "nome = \"\"\n",
    "sobrenome = \"\"\n",
    "\n",
    "mes = 4\n",
    "dia = -3"
   ]
  },
  {
   "cell_type": "code",
   "execution_count": 33,
   "metadata": {},
   "outputs": [
    {
     "name": "stdout",
     "output_type": "stream",
     "text": [
      "Tá bebo? Digite o número do mês e do dia\n"
     ]
    }
   ],
   "source": [
    "# Usando IF\n",
    "# Resolução\n",
    "# - Valor padrão\n",
    "# - Condicional (obrigatório nome e sobrenome)\n",
    "if mes == 1:\n",
    "    nome = \"Betinho\"\n",
    "elif mes == 2:\n",
    "    nome = \"Xexéu\"\n",
    "elif mes == 3:\n",
    "    nome = \"Zé\"\n",
    "#else: # Padrão\n",
    "#    nome = \"Xico\"\n",
    "    \n",
    "if dia == 1:\n",
    "    sobrenome = \"Furico\"\n",
    "elif dia == 2:\n",
    "    sobrenome = \"da Viola\"\n",
    "elif dia == 3:\n",
    "    sobrenome = \"Rosca Solta\"\n",
    "#else: # Padrão\n",
    "#    sobrenome = \"Tuíta\"\n",
    "\n",
    "opcoes = list(range(1, 4))\n",
    "\n",
    "#if (mes in opcoes) & (dia in opcoes):\n",
    "if (nome != \"\") & (sobrenome != \"\"): \n",
    "    print(\"Seu nome de cachaceiro é {} {}\".format(nome, sobrenome))\n",
    "else:\n",
    "    print(\"Tá bebo? Digite o número do mês e do dia\")"
   ]
  },
  {
   "cell_type": "code",
   "execution_count": 13,
   "metadata": {},
   "outputs": [
    {
     "data": {
      "text/plain": [
       "[1, 2, 3]"
      ]
     },
     "execution_count": 13,
     "metadata": {},
     "output_type": "execute_result"
    }
   ],
   "source": [
    "#list(range(-3, 7))"
   ]
  },
  {
   "cell_type": "code",
   "execution_count": 48,
   "metadata": {},
   "outputs": [
    {
     "name": "stdout",
     "output_type": "stream",
     "text": [
      "Mes = 3\n",
      "Dia = -4\n"
     ]
    },
    {
     "ename": "IndexError",
     "evalue": "list index out of range",
     "output_type": "error",
     "traceback": [
      "\u001b[1;31m---------------------------------------------------------------------------\u001b[0m",
      "\u001b[1;31mIndexError\u001b[0m                                Traceback (most recent call last)",
      "\u001b[1;32m<ipython-input-48-62eabaf453ab>\u001b[0m in \u001b[0;36m<module>\u001b[1;34m\u001b[0m\n\u001b[0;32m      6\u001b[0m \u001b[0mprint\u001b[0m\u001b[1;33m(\u001b[0m\u001b[1;34m\"Dia = {}\"\u001b[0m\u001b[1;33m.\u001b[0m\u001b[0mformat\u001b[0m\u001b[1;33m(\u001b[0m\u001b[0mdia\u001b[0m \u001b[1;33m-\u001b[0m \u001b[1;36m1\u001b[0m\u001b[1;33m)\u001b[0m\u001b[1;33m)\u001b[0m\u001b[1;33m\u001b[0m\u001b[1;33m\u001b[0m\u001b[0m\n\u001b[0;32m      7\u001b[0m \u001b[1;33m\u001b[0m\u001b[0m\n\u001b[1;32m----> 8\u001b[1;33m \u001b[0mnome\u001b[0m \u001b[1;33m=\u001b[0m \u001b[0mlista_nomes\u001b[0m\u001b[1;33m[\u001b[0m\u001b[0mmes\u001b[0m \u001b[1;33m-\u001b[0m \u001b[1;36m1\u001b[0m\u001b[1;33m]\u001b[0m\u001b[1;33m\u001b[0m\u001b[1;33m\u001b[0m\u001b[0m\n\u001b[0m\u001b[0;32m      9\u001b[0m \u001b[0msobrenome\u001b[0m \u001b[1;33m=\u001b[0m \u001b[0mlista_sobrenomes\u001b[0m\u001b[1;33m[\u001b[0m\u001b[0mdia\u001b[0m \u001b[1;33m-\u001b[0m \u001b[1;36m1\u001b[0m\u001b[1;33m]\u001b[0m\u001b[1;33m\u001b[0m\u001b[1;33m\u001b[0m\u001b[0m\n\u001b[0;32m     10\u001b[0m \u001b[1;33m\u001b[0m\u001b[0m\n",
      "\u001b[1;31mIndexError\u001b[0m: list index out of range"
     ]
    }
   ],
   "source": [
    "# Usando Listas\n",
    "lista_nomes = [\"Betinho\", \"Xexéu\", \"Zé\"]\n",
    "lista_sobrenomes = [\"Furico\", \"da Viola\", \"Rosca Solta\"]\n",
    "\n",
    "print(\"Mes = {}\".format(mes - 1))\n",
    "print(\"Dia = {}\".format(dia - 1))\n",
    "\n",
    "nome = lista_nomes[mes - 1]\n",
    "sobrenome = lista_sobrenomes[dia - 1]\n",
    "\n",
    "\n",
    "\n",
    "print(\"Seu nome de cachaceiro é {} {}\".format(nome, sobrenome))"
   ]
  },
  {
   "cell_type": "code",
   "execution_count": null,
   "metadata": {},
   "outputs": [],
   "source": [
    "# Usando dicionários\n",
    "#dicionario_nomes = {1: \"Betinho\", 2: \"Xexéu\", 3: \"Zé\"}\n",
    "#dicionario_sobrenomes = {1: \"Furico\", 2: \"da Viola\", 3: \"Rosca Solta\"}\n",
    "\n",
    "# Usando Zip\n",
    "\n",
    "dicionario_nome = dict(zip([1, 2, 3], [\"Betinho\", \"Xexéu\", \"Zé\"]))\n",
    "dicionario_sobrenome = dict(zip([1, 2, 3], [\"Furico\", \"da Viola\", \"Rosca Solta\"]))\n",
    "\n",
    "nome = dicionario_nomes[mes]\n",
    "sobrenome = dicionario_sobrenomes[dia]"
   ]
  },
  {
   "cell_type": "code",
   "execution_count": null,
   "metadata": {},
   "outputs": [],
   "source": [
    "# Usando funcoes\n",
    "def gerador_if(mes, dia):\n",
    "    #global nome\n",
    "    #global sobrenome\n",
    "    \n",
    "    nome = \"\"\n",
    "    sobrenome = \"\"\n",
    "    \n",
    "    if mes == 1:\n",
    "        nome = \"Betinho\"\n",
    "    elif mes == 2:\n",
    "        nome = \"Xexéu\"\n",
    "    elif mes == 3:\n",
    "        nome = \"Zé\"\n",
    "\n",
    "    if dia == 1:\n",
    "        sobrenome = \"Furico\"\n",
    "    elif dia == 2:\n",
    "        sobrenome = \"da Viola\"\n",
    "    elif dia == 3:\n",
    "        sobrenome = \"Rosca Solta\"\n",
    "        \n",
    "    return nome, sobrenome"
   ]
  },
  {
   "cell_type": "code",
   "execution_count": null,
   "metadata": {},
   "outputs": [],
   "source": [
    "# Resultado\n",
    "#nome, sobrenome = gerador_if(mes,dia)\n",
    "\n",
    "print(\"Seu nome de cachaceiro é {} {}\".format(nome, sobrenome))"
   ]
  }
 ],
 "metadata": {
  "kernelspec": {
   "display_name": "Python 3",
   "language": "python",
   "name": "python3"
  },
  "language_info": {
   "codemirror_mode": {
    "name": "ipython",
    "version": 3
   },
   "file_extension": ".py",
   "mimetype": "text/x-python",
   "name": "python",
   "nbconvert_exporter": "python",
   "pygments_lexer": "ipython3",
   "version": "3.6.8"
  }
 },
 "nbformat": 4,
 "nbformat_minor": 2
}
