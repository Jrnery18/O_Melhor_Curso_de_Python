{
 "cells": [
  {
   "cell_type": "code",
   "execution_count": null,
   "metadata": {},
   "outputs": [],
   "source": [
    "# Documentação\n",
    "# https://docs.python.org/3.7/library/stdtypes.html#set-types-set-frozenset"
   ]
  },
  {
   "cell_type": "code",
   "execution_count": 9,
   "metadata": {},
   "outputs": [
    {
     "data": {
      "text/plain": [
       "{(1, 2, 3), 1, 2, 3, 4, 'szdf'}"
      ]
     },
     "execution_count": 9,
     "metadata": {},
     "output_type": "execute_result"
    }
   ],
   "source": [
    "# O que é um set e criando um\n",
    "# type(set())\n",
    "{1, 2,3, 4, \"szdf\", (1, 2, 3)}"
   ]
  },
  {
   "cell_type": "code",
   "execution_count": null,
   "metadata": {},
   "outputs": [],
   "source": [
    "# Diferença entre set e frozenset\n",
    "# set = mutável\n",
    "# frozenset = imutável"
   ]
  },
  {
   "cell_type": "code",
   "execution_count": 22,
   "metadata": {},
   "outputs": [
    {
     "data": {
      "text/plain": [
       "{'J', 'a', 'i', 'l', 'n', 'u'}"
      ]
     },
     "execution_count": 22,
     "metadata": {},
     "output_type": "execute_result"
    }
   ],
   "source": [
    "# Set -> Outras Sequências; Outras Sequências -> Set\n",
    "set(\"Juliana\")"
   ]
  },
  {
   "cell_type": "code",
   "execution_count": 26,
   "metadata": {},
   "outputs": [
    {
     "data": {
      "text/plain": [
       "{'a', 'i', 'j', 'l', 'n', 'u'}"
      ]
     },
     "execution_count": 26,
     "metadata": {},
     "output_type": "execute_result"
    }
   ],
   "source": [
    "# Selecionar valores\n",
    "x = set(\"juliana\")\n",
    "x"
   ]
  },
  {
   "cell_type": "code",
   "execution_count": 29,
   "metadata": {},
   "outputs": [
    {
     "data": {
      "text/plain": [
       "['u', 'n', 'i', 'j', 'a', 'l']"
      ]
     },
     "execution_count": 29,
     "metadata": {},
     "output_type": "execute_result"
    }
   ],
   "source": [
    "list(x)"
   ]
  },
  {
   "cell_type": "code",
   "execution_count": 14,
   "metadata": {},
   "outputs": [
    {
     "name": "stdout",
     "output_type": "stream",
     "text": [
      "2\n"
     ]
    }
   ],
   "source": [
    "# Algumas operações de alteraçao em sets\n",
    "# .add\n",
    "# .remove\n",
    "x = set()\n",
    "x.add(1)\n",
    "x.add(9)\n",
    "\n",
    "print(len(x))"
   ]
  },
  {
   "cell_type": "code",
   "execution_count": 31,
   "metadata": {},
   "outputs": [],
   "source": [
    "# Operações de conjuntos\n",
    "# |  União\n",
    "# &  Intersecção\n",
    "# -  Diferença\n",
    "\n",
    "x = {1, 2, 3, 4}\n",
    "y = {4, 5, 6, 7}"
   ]
  },
  {
   "cell_type": "code",
   "execution_count": 33,
   "metadata": {},
   "outputs": [
    {
     "name": "stdout",
     "output_type": "stream",
     "text": [
      "{1, 2, 3, 4, 5, 6, 7}\n",
      "{4}\n",
      "{1, 2, 3}\n"
     ]
    }
   ],
   "source": [
    "print(x | y)\n",
    "print(x & y)\n",
    "print(x - y)"
   ]
  },
  {
   "cell_type": "code",
   "execution_count": 41,
   "metadata": {},
   "outputs": [
    {
     "name": "stdout",
     "output_type": "stream",
     "text": [
      "{'d', 'g', 'c', 'f'}\n",
      "1846168747592\n",
      "['d', 'g', 'c', 'f']\n",
      "{'f', 'd', 'c', 'g'}\n",
      "1846168747144\n",
      "['f', 'd', 'c', 'g']\n"
     ]
    }
   ],
   "source": [
    "# Explicando o não ordenamento\n",
    "print(set(\"cfgd\"))\n",
    "print(id(set(\"cdfg\")))\n",
    "print(list(set(\"cdfg\")))\n",
    "print(set(\"cgdf\"))\n",
    "print(id(set(\"cgdf\")))\n",
    "print(list(set(\"cgdf\")))"
   ]
  }
 ],
 "metadata": {
  "kernelspec": {
   "display_name": "Python 3",
   "language": "python",
   "name": "python3"
  },
  "language_info": {
   "codemirror_mode": {
    "name": "ipython",
    "version": 3
   },
   "file_extension": ".py",
   "mimetype": "text/x-python",
   "name": "python",
   "nbconvert_exporter": "python",
   "pygments_lexer": "ipython3",
   "version": "3.6.7"
  }
 },
 "nbformat": 4,
 "nbformat_minor": 2
}
