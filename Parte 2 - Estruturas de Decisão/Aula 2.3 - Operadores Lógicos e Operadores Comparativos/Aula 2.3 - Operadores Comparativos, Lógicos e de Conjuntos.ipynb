{
 "cells": [
  {
   "cell_type": "code",
   "execution_count": null,
   "metadata": {},
   "outputs": [],
   "source": [
    "# Valores True e False\n",
    "# Booleanos"
   ]
  },
  {
   "cell_type": "code",
   "execution_count": 5,
   "metadata": {},
   "outputs": [
    {
     "data": {
      "text/plain": [
       "False"
      ]
     },
     "execution_count": 5,
     "metadata": {},
     "output_type": "execute_result"
    }
   ],
   "source": [
    "# Operadores comparativos\n",
    "# >         Maior\n",
    "# >=        Maior ou Igual\n",
    "# <         Menor\n",
    "# <=        Menor ou Igual\n",
    "# ==        Igual\n",
    "# !=        Diferente\n",
    "# Esquerda (comparador) Direita\n",
    "\n",
    "# 1 == 2\n",
    "# \"Xumbrega\" == \"Xumbrega\"\n",
    "# (1,2,3) == (1,2,4)\n",
    "\n"
   ]
  },
  {
   "cell_type": "code",
   "execution_count": 16,
   "metadata": {},
   "outputs": [],
   "source": [
    "# Operadores de Conjuntos\n",
    "# in        Contém\n",
    "# not in    Não contém\n",
    "\n",
    "# \"i\" in \"InteligentI\"\n",
    "# \"Cezar\" not in \"O senhor Bruno passou por cima do barro\"\n",
    "\n",
    "# 13 in (1, 3, 5, 7, 9, 11, 13, 17)\n",
    "\n",
    "devendo = dict(zip([\"Ze\", \"Beto\", \"Virilha\"], [10, 50, 3.25]))\n",
    "# 10 in devendo.values()"
   ]
  },
  {
   "cell_type": "code",
   "execution_count": 40,
   "metadata": {},
   "outputs": [
    {
     "name": "stdout",
     "output_type": "stream",
     "text": [
      "Você não saiu\n"
     ]
    }
   ],
   "source": [
    "# Operadores Lógicos\n",
    "# &         E\n",
    "# |         OU\n",
    "# not       NÃO\n",
    "\n",
    "chave = True\n",
    "macaneta = True\n",
    "\n",
    "\n",
    "if not ((chave == True) & (macaneta == True)):\n",
    "    print(\"Você saiu\")\n",
    "else:\n",
    "    print(\"Você não saiu\")\n"
   ]
  }
 ],
 "metadata": {
  "kernelspec": {
   "display_name": "Python 3",
   "language": "python",
   "name": "python3"
  },
  "language_info": {
   "codemirror_mode": {
    "name": "ipython",
    "version": 3
   },
   "file_extension": ".py",
   "mimetype": "text/x-python",
   "name": "python",
   "nbconvert_exporter": "python",
   "pygments_lexer": "ipython3",
   "version": "3.6.8"
  }
 },
 "nbformat": 4,
 "nbformat_minor": 2
}
