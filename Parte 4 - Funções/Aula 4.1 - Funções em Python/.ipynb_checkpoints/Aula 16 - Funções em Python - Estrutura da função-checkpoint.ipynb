{
 "cells": [
  {
   "cell_type": "code",
   "execution_count": 3,
   "metadata": {},
   "outputs": [],
   "source": [
    "# Como criar uma função\n",
    "\n",
    "# def [nome_da_função]():\n",
    "#    [escopo da função]\n",
    "\n",
    "def calcular_preco_cinema(preco_bilhete, multiplicador):\n",
    "    return preco_bilhete * multiplicador"
   ]
  },
  {
   "cell_type": "code",
   "execution_count": 14,
   "metadata": {},
   "outputs": [
    {
     "name": "stdout",
     "output_type": "stream",
     "text": [
      "O valor do ingresso é R$ 7.0\n"
     ]
    }
   ],
   "source": [
    "preco_bilhete = 10\n",
    "multiplicador = 1\n",
    "\n",
    "isGravida = False\n",
    "idade = 86\n",
    "\n",
    "if idade >= 85:\n",
    "    multiplicador = 0.7\n",
    "elif isGravida == True:\n",
    "    multiplicador = 0.75\n",
    "    \n",
    "print(\"O valor do ingresso é R$ {}\".format(str(calcular_preco_cinema(preco_bilhete, multiplicador))))"
   ]
  }
 ],
 "metadata": {
  "kernelspec": {
   "display_name": "Python 3",
   "language": "python",
   "name": "python3"
  },
  "language_info": {
   "codemirror_mode": {
    "name": "ipython",
    "version": 3
   },
   "file_extension": ".py",
   "mimetype": "text/x-python",
   "name": "python",
   "nbconvert_exporter": "python",
   "pygments_lexer": "ipython3",
   "version": "3.6.8"
  }
 },
 "nbformat": 4,
 "nbformat_minor": 2
}
