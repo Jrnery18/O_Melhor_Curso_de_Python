{
 "cells": [
  {
   "cell_type": "code",
   "execution_count": 6,
   "metadata": {},
   "outputs": [
    {
     "data": {
      "text/plain": [
       "int"
      ]
     },
     "execution_count": 6,
     "metadata": {},
     "output_type": "execute_result"
    }
   ],
   "source": [
    "# Tipos numéricos\n",
    "# Inteiros e ponto flutuante\n",
    "type(240)"
   ]
  },
  {
   "cell_type": "code",
   "execution_count": 11,
   "metadata": {},
   "outputs": [
    {
     "data": {
      "text/plain": [
       "'A coxinha vale R$ 2,50'"
      ]
     },
     "execution_count": 11,
     "metadata": {},
     "output_type": "execute_result"
    }
   ],
   "source": [
    "# Texto\n",
    "\"A coxinha vale R$ 2,50\""
   ]
  },
  {
   "cell_type": "code",
   "execution_count": 17,
   "metadata": {},
   "outputs": [
    {
     "name": "stdout",
     "output_type": "stream",
     "text": [
      "Adição - 2\n",
      "Subtração - 1\n",
      "Divisão real - 1.7666666666666666\n",
      "Divisão de inteiros - 1\n",
      "Resto de divisão - 2\n",
      "Potenciação - 25\n"
     ]
    }
   ],
   "source": [
    "# Operações Matemáticas \"básicas\"\n",
    "\"\"\" \n",
    "+    Adição\n",
    "-    Subtração\n",
    "/    Divisão \"real\"\n",
    "//   Divisão de inteiros\n",
    "%    Módulo (Resto de Divisão)\n",
    "**   Potenciação\n",
    "\"\"\"\n",
    "\n",
    "print(\"Adição - \" + str(1 + 1))\n",
    "print(\"Subtração - \" + str(2 - 1))\n",
    "print(\"Divisão real - \" + str(5.3 / 3.0))\n",
    "print(\"Divisão de inteiros - \" + str(5 // 3))\n",
    "print(\"Resto de divisão - \" + str(5 % 3))\n",
    "print(\"Potenciação - \" + str(5 ** 2))"
   ]
  }
 ],
 "metadata": {
  "kernelspec": {
   "display_name": "Python 3",
   "language": "python",
   "name": "python3"
  },
  "language_info": {
   "codemirror_mode": {
    "name": "ipython",
    "version": 3
   },
   "file_extension": ".py",
   "mimetype": "text/x-python",
   "name": "python",
   "nbconvert_exporter": "python",
   "pygments_lexer": "ipython3",
   "version": "3.6.7"
  }
 },
 "nbformat": 4,
 "nbformat_minor": 2
}
