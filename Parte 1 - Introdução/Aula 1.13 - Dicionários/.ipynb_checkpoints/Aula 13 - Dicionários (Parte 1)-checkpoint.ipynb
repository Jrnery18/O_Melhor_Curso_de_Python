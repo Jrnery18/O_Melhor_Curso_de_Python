{
 "cells": [
  {
   "cell_type": "code",
   "execution_count": null,
   "metadata": {},
   "outputs": [],
   "source": [
    "# Documentação\n",
    "# https://docs.python.org/3.7/library/stdtypes.html#dict"
   ]
  },
  {
   "cell_type": "code",
   "execution_count": 8,
   "metadata": {},
   "outputs": [
    {
     "data": {
      "text/plain": [
       "{1: [1, [1, 2]], 2: 'ijudjfhg'}"
      ]
     },
     "execution_count": 8,
     "metadata": {},
     "output_type": "execute_result"
    }
   ],
   "source": [
    "# O que é um dicionário\n",
    "# type({})\n",
    "# type(dict())\n",
    "{1 : [1, [1,2]], 2 : \"ijudjfhg\"}"
   ]
  },
  {
   "cell_type": "code",
   "execution_count": 16,
   "metadata": {},
   "outputs": [
    {
     "data": {
      "text/plain": [
       "{1: 1, 1.5: 9, 'a': 'b', (1, 1): 9}"
      ]
     },
     "execution_count": 16,
     "metadata": {},
     "output_type": "execute_result"
    }
   ],
   "source": [
    "# Chaves = objetos imutáveis\n",
    "{1 : 1, 1.5: 9, \"a\":\"b\", (1, 1): 9}"
   ]
  },
  {
   "cell_type": "code",
   "execution_count": 17,
   "metadata": {},
   "outputs": [
    {
     "data": {
      "text/plain": [
       "{1: 19}"
      ]
     },
     "execution_count": 17,
     "metadata": {},
     "output_type": "execute_result"
    }
   ],
   "source": [
    "{1: 6, 1: 19}"
   ]
  },
  {
   "cell_type": "code",
   "execution_count": 31,
   "metadata": {},
   "outputs": [],
   "source": [
    "# Selecionando valores em um dicionário\n",
    "x = {1: 1 * 10 ** 1, 2: 2 * 10 ** 2, 3: 3 * 10 ** 3, \"churros\": 5000, 4: 90}"
   ]
  },
  {
   "cell_type": "code",
   "execution_count": 32,
   "metadata": {},
   "outputs": [
    {
     "data": {
      "text/plain": [
       "{1: 10, 2: 200, 3: 3000, 'churros': 5000, 4: 90}"
      ]
     },
     "execution_count": 32,
     "metadata": {},
     "output_type": "execute_result"
    }
   ],
   "source": [
    "# x[3]\n",
    "# x.get(\"churros\")\n",
    "x"
   ]
  },
  {
   "cell_type": "code",
   "execution_count": 45,
   "metadata": {},
   "outputs": [
    {
     "name": "stdout",
     "output_type": "stream",
     "text": [
      "{1: 589, 2: 'Churrumino', 3: (9, 9), 'churros': 'Capitão Planeta', 4: 'Terra'}\n"
     ]
    }
   ],
   "source": [
    "\"\"\"\n",
    "    Algumas funções em dicionários\n",
    "    .popitem() - Retorna o último valor\n",
    "    .pop(chave) - Retorna o valor da chave X\n",
    "        .update({chave: valor}) - altera o valor da chave\n",
    "        .update(x = y) - altera o valor de x para y\n",
    "        x[y] = z\n",
    "\"\"\"\n",
    "y = {1: 1 * 10 ** 1, 2: 2 * 10 ** 2, 3: 3 * 10 ** 3, \"churros\": 5000, 4: 90}\n",
    "#print(y.popitem())\n",
    "#print(y.pop(1))\n",
    "# y[1] = 50\n",
    "# y.update({1: 200})\n",
    "# y.update({1: 589, 2: \"Churrumino\", 3: (9,9), 4: \"Terra\", \"churros\": \"Capitão Planeta\"})\n",
    "print(y)"
   ]
  },
  {
   "cell_type": "code",
   "execution_count": 46,
   "metadata": {},
   "outputs": [],
   "source": [
    "# Adicionar valores\n",
    "y[5] = \"Pochete\""
   ]
  },
  {
   "cell_type": "code",
   "execution_count": 48,
   "metadata": {},
   "outputs": [
    {
     "name": "stdout",
     "output_type": "stream",
     "text": [
      "{1: 589, 2: 'Churrumino', 3: (9, 9), 'churros': 'Capitão Planeta', 4: 'Terra', 5: 'Pochete'}\n"
     ]
    }
   ],
   "source": [
    "print(y)"
   ]
  },
  {
   "cell_type": "code",
   "execution_count": 49,
   "metadata": {},
   "outputs": [],
   "source": [
    "# Mais funções do update\n",
    "y.update({6: \"Lampada\", 7: \"Clóvis Basílio dos Santos\", 8 : (9, 11)})"
   ]
  },
  {
   "cell_type": "code",
   "execution_count": 50,
   "metadata": {},
   "outputs": [
    {
     "name": "stdout",
     "output_type": "stream",
     "text": [
      "{1: 589, 2: 'Churrumino', 3: (9, 9), 'churros': 'Capitão Planeta', 4: 'Terra', 5: 'Pochete', 6: 'Lampada', 7: 'Clóvis Basílio dos Santos', 8: (9, 11)}\n"
     ]
    }
   ],
   "source": [
    "print(y)"
   ]
  }
 ],
 "metadata": {
  "kernelspec": {
   "display_name": "Python 3",
   "language": "python",
   "name": "python3"
  },
  "language_info": {
   "codemirror_mode": {
    "name": "ipython",
    "version": 3
   },
   "file_extension": ".py",
   "mimetype": "text/x-python",
   "name": "python",
   "nbconvert_exporter": "python",
   "pygments_lexer": "ipython3",
   "version": "3.6.8"
  }
 },
 "nbformat": 4,
 "nbformat_minor": 2
}
