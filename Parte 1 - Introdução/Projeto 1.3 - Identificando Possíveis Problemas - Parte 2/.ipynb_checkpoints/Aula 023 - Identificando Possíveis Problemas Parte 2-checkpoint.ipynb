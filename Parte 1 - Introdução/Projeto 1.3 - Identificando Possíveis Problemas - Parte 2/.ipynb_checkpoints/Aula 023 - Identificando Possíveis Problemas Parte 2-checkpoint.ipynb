{
 "cells": [
  {
   "cell_type": "markdown",
   "metadata": {},
   "source": [
    "![teste](nomecachaceiro.png)"
   ]
  },
  {
   "cell_type": "code",
   "execution_count": 24,
   "metadata": {},
   "outputs": [],
   "source": [
    "# Variáveis de saida\n",
    "nome = \"\"\n",
    "sobrenome = \"\"\n",
    "\n",
    "mes = 2\n",
    "dia = 3"
   ]
  },
  {
   "cell_type": "code",
   "execution_count": 33,
   "metadata": {},
   "outputs": [
    {
     "name": "stdout",
     "output_type": "stream",
     "text": [
      "Tá bebo? Digite o número do mês e do dia\n"
     ]
    }
   ],
   "source": [
    "# Usando IF\n",
    "# Resolução\n",
    "# - Valor padrão\n",
    "# - Condicional (obrigatório nome e sobrenome)\n",
    "if mes == 1:\n",
    "    nome = \"Betinho\"\n",
    "elif mes == 2:\n",
    "    nome = \"Xexéu\"\n",
    "elif mes == 3:\n",
    "    nome = \"Zé\"\n",
    "#else: # Padrão\n",
    "#    nome = \"Xico\"\n",
    "    \n",
    "if dia == 1:\n",
    "    sobrenome = \"Furico\"\n",
    "elif dia == 2:\n",
    "    sobrenome = \"da Viola\"\n",
    "elif dia == 3:\n",
    "    sobrenome = \"Rosca Solta\"\n",
    "#else: # Padrão\n",
    "#    sobrenome = \"Tuíta\"\n",
    "\n",
    "opcoes = list(range(1, 4))\n",
    "\n",
    "#if (mes in opcoes) & (dia in opcoes):\n",
    "if (nome != \"\") & (sobrenome != \"\"): \n",
    "    print(\"Seu nome de cachaceiro é {} {}\".format(nome, sobrenome))\n",
    "else:\n",
    "    print(\"Tá bebo? Digite o número do mês e do dia\")"
   ]
  },
  {
   "cell_type": "code",
   "execution_count": 13,
   "metadata": {},
   "outputs": [
    {
     "data": {
      "text/plain": [
       "[1, 2, 3]"
      ]
     },
     "execution_count": 13,
     "metadata": {},
     "output_type": "execute_result"
    }
   ],
   "source": [
    "#list(range(-3, 7))"
   ]
  },
  {
   "cell_type": "code",
   "execution_count": 25,
   "metadata": {},
   "outputs": [
    {
     "name": "stdout",
     "output_type": "stream",
     "text": [
      "Mes = 1\n",
      "Dia = 2\n",
      "Seu nome de cachaceiro é Xexéu Rosca Solta\n"
     ]
    }
   ],
   "source": [
    "# Usando Listas\n",
    "lista_nomes = [\"Betinho\", \"Xexéu\", \"Zé\"]\n",
    "lista_sobrenomes = [\"Furico\", \"da Viola\", \"Rosca Solta\"]\n",
    "\n",
    "print(\"Mes = {}\".format(mes - 1))\n",
    "print(\"Dia = {}\".format(dia - 1))\n",
    "\n",
    "# if ((mes >= 1) & (mes <= 3)) & ((dia >=1) & (dia <= 3)):\n",
    "# if (mes in list(range(1, 4))) & (dia in list(range(1,4))):\n",
    "if (mes in list(range(1, len(lista_nomes) + 1))) & (dia in list(range(1, len(lista_sobrenomes) + 1))):\n",
    "    nome = lista_nomes[mes - 1]\n",
    "    sobrenome = lista_sobrenomes[dia - 1]\n",
    "\n",
    "    print(\"Seu nome de cachaceiro é {} {}\".format(nome, sobrenome))\n",
    "else:\n",
    "    print(\"Tá bebo? Digite o número do mês e do dia\")"
   ]
  },
  {
   "cell_type": "code",
   "execution_count": 33,
   "metadata": {},
   "outputs": [
    {
     "name": "stdout",
     "output_type": "stream",
     "text": [
      "Seu nome de cachaceiro é Betinho da Viola\n"
     ]
    }
   ],
   "source": [
    "# Usando dicionários\n",
    "#dicionario_nomes = {1: \"Betinho\", 2: \"Xexéu\", 3: \"Zé\"}\n",
    "#dicionario_sobrenomes = {1: \"Furico\", 2: \"da Viola\", 3: \"Rosca Solta\"}\n",
    "\n",
    "# Usando Zip\n",
    "\n",
    "# Variáveis de saida\n",
    "nome = \"\"\n",
    "sobrenome = \"\"\n",
    "\n",
    "mes = 1\n",
    "dia = 2\n",
    "\n",
    "dicionario_nome = dict(zip([1, 2, 3], [\"Betinho\", \"Xexéu\", \"Zé\"]))\n",
    "dicionario_sobrenome = dict(zip([1, 2, 3], [\"Furico\", \"da Viola\", \"Rosca Solta\"]))\n",
    "\n",
    "if (mes in dicionario_nome.keys()) & (dia in dicionario_sobrenome.keys()):\n",
    "    nome = dicionario_nome[mes]\n",
    "    sobrenome = dicionario_sobrenome[dia]\n",
    "    print(\"Seu nome de cachaceiro é {} {}\".format(nome, sobrenome))\n",
    "else:\n",
    "    print(\"Tá bebo? Digite o número do mês e do dia\")"
   ]
  },
  {
   "cell_type": "code",
   "execution_count": null,
   "metadata": {},
   "outputs": [],
   "source": [
    "# Resultado\n",
    "#nome, sobrenome = gerador_if(mes,dia)\n",
    "\n",
    "print(\"Seu nome de cachaceiro é {} {}\".format(nome, sobrenome))"
   ]
  }
 ],
 "metadata": {
  "kernelspec": {
   "display_name": "Python 3",
   "language": "python",
   "name": "python3"
  },
  "language_info": {
   "codemirror_mode": {
    "name": "ipython",
    "version": 3
   },
   "file_extension": ".py",
   "mimetype": "text/x-python",
   "name": "python",
   "nbconvert_exporter": "python",
   "pygments_lexer": "ipython3",
   "version": "3.6.8"
  }
 },
 "nbformat": 4,
 "nbformat_minor": 2
}
