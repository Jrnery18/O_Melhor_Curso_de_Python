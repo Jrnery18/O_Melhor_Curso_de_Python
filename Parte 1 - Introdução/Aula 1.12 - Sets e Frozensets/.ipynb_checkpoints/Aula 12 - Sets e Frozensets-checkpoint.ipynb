{
 "cells": [
  {
   "cell_type": "code",
   "execution_count": null,
   "metadata": {},
   "outputs": [],
   "source": [
    "# Documentação\n",
    "# https://docs.python.org/3.7/library/stdtypes.html#set-types-set-frozenset"
   ]
  },
  {
   "cell_type": "code",
   "execution_count": null,
   "metadata": {},
   "outputs": [],
   "source": [
    "# O que é um set e criando um\n"
   ]
  },
  {
   "cell_type": "code",
   "execution_count": null,
   "metadata": {},
   "outputs": [],
   "source": [
    "# Diferença entre set e frozenset"
   ]
  },
  {
   "cell_type": "code",
   "execution_count": null,
   "metadata": {},
   "outputs": [],
   "source": [
    "# Set -> Outras Sequências; Outras Sequências -> Set\n"
   ]
  },
  {
   "cell_type": "code",
   "execution_count": null,
   "metadata": {},
   "outputs": [],
   "source": [
    "# Algumas operações de alteraçao em sets\n",
    "# .add\n",
    "# .remove"
   ]
  },
  {
   "cell_type": "code",
   "execution_count": null,
   "metadata": {},
   "outputs": [],
   "source": [
    "# Operações de conjuntos\n",
    "# |  União\n",
    "# &  Intersecção\n",
    "# -  Diferença"
   ]
  },
  {
   "cell_type": "code",
   "execution_count": 25,
   "metadata": {},
   "outputs": [
    {
     "name": "stdout",
     "output_type": "stream",
     "text": [
      "{'c', 'f', 'g', 'd'}\n",
      "2513859386728\n",
      "{'c', 'f', 'g', 'd'}\n",
      "2513859386728\n",
      "{'s', 'd', 'l', 'i', 'c', 'u', 'j', ' ', 'h', 'f', 'a'}\n",
      "2513859386728\n",
      "{'s', 'd', 'l', 'i', 'c', 'u', 'j', ' ', 'h', 'f', 'a'}\n",
      "2513860208880\n"
     ]
    }
   ],
   "source": [
    "# Explicando o não ordenamento\n",
    "print(set(\"cfgd\"))\n",
    "print(id(set(\"cdfg\")))\n",
    "print(set(\"cgdf\"))\n",
    "print(id(set(\"cgdf\")))"
   ]
  }
 ],
 "metadata": {
  "kernelspec": {
   "display_name": "Python 3",
   "language": "python",
   "name": "python3"
  },
  "language_info": {
   "codemirror_mode": {
    "name": "ipython",
    "version": 3
   },
   "file_extension": ".py",
   "mimetype": "text/x-python",
   "name": "python",
   "nbconvert_exporter": "python",
   "pygments_lexer": "ipython3",
   "version": "3.6.7"
  }
 },
 "nbformat": 4,
 "nbformat_minor": 2
}
