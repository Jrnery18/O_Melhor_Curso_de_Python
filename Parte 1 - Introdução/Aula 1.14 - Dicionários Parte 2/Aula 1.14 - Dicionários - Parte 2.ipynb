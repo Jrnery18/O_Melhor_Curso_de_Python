{
 "cells": [
  {
   "cell_type": "code",
   "execution_count": 10,
   "metadata": {},
   "outputs": [
    {
     "data": {
      "text/plain": [
       "{1: 'a', 2: 'b', 3: 'c', 4: 'd', 5: 'e', 6: 'f'}"
      ]
     },
     "execution_count": 10,
     "metadata": {},
     "output_type": "execute_result"
    }
   ],
   "source": [
    "# Construindo dicionários\n",
    "# zip\n",
    "\n",
    "dict(zip([1,2,3,4,5,6], [\"a\", \"b\", \"c\", \"d\", \"e\", \"f\"]))"
   ]
  },
  {
   "cell_type": "code",
   "execution_count": 19,
   "metadata": {},
   "outputs": [],
   "source": [
    "# Enumerate\n",
    "x = dict(enumerate(\"Churros Recheados\"))"
   ]
  },
  {
   "cell_type": "code",
   "execution_count": 25,
   "metadata": {},
   "outputs": [
    {
     "name": "stdout",
     "output_type": "stream",
     "text": [
      "dict_values(['C', 'h', 'u', 'r', 'r', 'o', 's', ' ', 'R', 'e', 'c', 'h', 'e', 'a', 'd', 'o', 's'])\n",
      "dict_keys([0, 1, 2, 3, 4, 5, 6, 7, 8, 9, 10, 11, 12, 13, 14, 15, 16])\n"
     ]
    }
   ],
   "source": [
    "# Obtendo chaves e valores (keys e values)\n",
    "print(x.values())\n",
    "print(x.keys())"
   ]
  },
  {
   "cell_type": "code",
   "execution_count": 26,
   "metadata": {},
   "outputs": [
    {
     "data": {
      "text/plain": [
       "dict_items([(0, 'C'), (1, 'h'), (2, 'u'), (3, 'r'), (4, 'r'), (5, 'o'), (6, 's'), (7, ' '), (8, 'R'), (9, 'e'), (10, 'c'), (11, 'h'), (12, 'e'), (13, 'a'), (14, 'd'), (15, 'o'), (16, 's')])"
      ]
     },
     "execution_count": 26,
     "metadata": {},
     "output_type": "execute_result"
    }
   ],
   "source": [
    "# obtendo tuplas (items)\n",
    "x.items()"
   ]
  }
 ],
 "metadata": {
  "kernelspec": {
   "display_name": "Python 3",
   "language": "python",
   "name": "python3"
  },
  "language_info": {
   "codemirror_mode": {
    "name": "ipython",
    "version": 3
   },
   "file_extension": ".py",
   "mimetype": "text/x-python",
   "name": "python",
   "nbconvert_exporter": "python",
   "pygments_lexer": "ipython3",
   "version": "3.6.8"
  }
 },
 "nbformat": 4,
 "nbformat_minor": 2
}
