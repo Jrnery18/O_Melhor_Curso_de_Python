{
 "cells": [
  {
   "cell_type": "markdown",
   "metadata": {},
   "source": [
    "![teste](nomecachaceiro.png)"
   ]
  },
  {
   "cell_type": "code",
   "execution_count": 11,
   "metadata": {},
   "outputs": [],
   "source": [
    "# Variáveis de saida\n",
    "nome = \"\"\n",
    "sobrenome = \"\"\n",
    "\n",
    "mes = 4\n",
    "dia = 3"
   ]
  },
  {
   "cell_type": "code",
   "execution_count": 19,
   "metadata": {},
   "outputs": [
    {
     "name": "stdout",
     "output_type": "stream",
     "text": [
      "True\n",
      "False\n",
      "Você já tá bêbado? Digite o dia e o mês do seu nascimento para gerar o nome\n"
     ]
    }
   ],
   "source": [
    "# Usando IF\n",
    "if mes == 1:\n",
    "    nome = \"Betinho\"\n",
    "elif mes == 2:\n",
    "    nome = \"Xexéu\"\n",
    "elif mes == 3:\n",
    "    nome = \"Zé\"\n",
    "    \n",
    "if dia == 1:\n",
    "    sobrenome = \"Furico\"\n",
    "elif dia == 2:\n",
    "    sobrenome = \"da Viola\"\n",
    "elif dia == 3:\n",
    "    sobrenome = \"Rosca Solta\""
   ]
  },
  {
   "cell_type": "code",
   "execution_count": null,
   "metadata": {},
   "outputs": [],
   "source": [
    "# Usando Listas\n",
    "lista_nomes = [\"Betinho\", \"Xexéu\", \"Zé\"]\n",
    "lista_sobrenomes = [\"Furico\", \"da Viola\", \"Rosca Solta\"]\n",
    "\n",
    "nome = lista_nomes[mes - 1]\n",
    "sobrenome = lista_sobrenomes[dia - 1]"
   ]
  },
  {
   "cell_type": "code",
   "execution_count": null,
   "metadata": {},
   "outputs": [],
   "source": [
    "# Usando dicionários\n",
    "#dicionario_nomes = {1: \"Betinho\", 2: \"Xexéu\", 3: \"Zé\"}\n",
    "#dicionario_sobrenomes = {1: \"Furico\", 2: \"da Viola\", 3: \"Rosca Solta\"}\n",
    "\n",
    "# Usando Zip\n",
    "\n",
    "dicionario_nome = dict(zip([1, 2, 3], [\"Betinho\", \"Xexéu\", \"Zé\"]))\n",
    "dicionario_sobrenome = dict(zip([1, 2, 3], [\"Furico\", \"da Viola\", \"Rosca Solta\"]))\n",
    "\n",
    "nome = dicionario_nomes[mes]\n",
    "sobrenome = dicionario_sobrenomes[dia]"
   ]
  },
  {
   "cell_type": "code",
   "execution_count": null,
   "metadata": {},
   "outputs": [],
   "source": [
    "# Usando funcoes\n",
    "def gerador_if(mes, dia):\n",
    "    #global nome\n",
    "    #global sobrenome\n",
    "    \n",
    "    nome = \"\"\n",
    "    sobrenome = \"\"\n",
    "    \n",
    "    if mes == 1:\n",
    "        nome = \"Betinho\"\n",
    "    elif mes == 2:\n",
    "        nome = \"Xexéu\"\n",
    "    elif mes == 3:\n",
    "        nome = \"Zé\"\n",
    "\n",
    "    if dia == 1:\n",
    "        sobrenome = \"Furico\"\n",
    "    elif dia == 2:\n",
    "        sobrenome = \"da Viola\"\n",
    "    elif dia == 3:\n",
    "        sobrenome = \"Rosca Solta\"\n",
    "        \n",
    "    return nome, sobrenome"
   ]
  },
  {
   "cell_type": "code",
   "execution_count": 3,
   "metadata": {},
   "outputs": [
    {
     "name": "stdout",
     "output_type": "stream",
     "text": [
      "Seu nome de cachaceiro é  \n"
     ]
    }
   ],
   "source": [
    "# Resultado\n",
    "#nome, sobrenome = gerador_if(mes,dia)\n",
    "\n",
    "print(\"Seu nome de cachaceiro é {} {}\".format(nome, sobrenome))"
   ]
  }
 ],
 "metadata": {
  "kernelspec": {
   "display_name": "Python 3",
   "language": "python",
   "name": "python3"
  },
  "language_info": {
   "codemirror_mode": {
    "name": "ipython",
    "version": 3
   },
   "file_extension": ".py",
   "mimetype": "text/x-python",
   "name": "python",
   "nbconvert_exporter": "python",
   "pygments_lexer": "ipython3",
   "version": "3.6.8"
  }
 },
 "nbformat": 4,
 "nbformat_minor": 2
}
