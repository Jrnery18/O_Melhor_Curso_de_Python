{
 "cells": [
  {
   "cell_type": "code",
   "execution_count": null,
   "metadata": {},
   "outputs": [],
   "source": [
    "# Documentação\n",
    "# https://docs.python.org/3.7/library/stdtypes.html#tuple"
   ]
  },
  {
   "cell_type": "code",
   "execution_count": null,
   "metadata": {},
   "outputs": [],
   "source": [
    "# Construindo uma tupla\n",
    "x = tuple([1,2,3])"
   ]
  },
  {
   "cell_type": "code",
   "execution_count": 30,
   "metadata": {},
   "outputs": [],
   "source": [
    "# tuple(), (a,b,c) ou a,b,c ?\n",
    "#type(tuple([1,2,3]))\n",
    "# x = (1, \"22\", 3)\n",
    "\n",
    "x, y, z = tuple([\"suhdf\", 2, 3.0009])"
   ]
  },
  {
   "cell_type": "code",
   "execution_count": 35,
   "metadata": {},
   "outputs": [
    {
     "name": "stdout",
     "output_type": "stream",
     "text": [
      "x : Churros\n",
      "y : Cavalo\n",
      "z : 3.569\n"
     ]
    }
   ],
   "source": [
    "print(\"x : {}\".format(x))\n",
    "print(\"y : {}\".format(y))\n",
    "print(\"z : {}\".format(z))"
   ]
  },
  {
   "cell_type": "code",
   "execution_count": 33,
   "metadata": {},
   "outputs": [],
   "source": [
    "# Prévia: retornando vários valores em uma função\n",
    "def retorno_tupla():\n",
    "    return \"Churros\", \"Cavalo\", 3.569"
   ]
  },
  {
   "cell_type": "code",
   "execution_count": 34,
   "metadata": {},
   "outputs": [],
   "source": [
    "x, y, z = retorno_tupla()"
   ]
  }
 ],
 "metadata": {
  "kernelspec": {
   "display_name": "Python 3",
   "language": "python",
   "name": "python3"
  },
  "language_info": {
   "codemirror_mode": {
    "name": "ipython",
    "version": 3
   },
   "file_extension": ".py",
   "mimetype": "text/x-python",
   "name": "python",
   "nbconvert_exporter": "python",
   "pygments_lexer": "ipython3",
   "version": "3.6.7"
  }
 },
 "nbformat": 4,
 "nbformat_minor": 2
}
