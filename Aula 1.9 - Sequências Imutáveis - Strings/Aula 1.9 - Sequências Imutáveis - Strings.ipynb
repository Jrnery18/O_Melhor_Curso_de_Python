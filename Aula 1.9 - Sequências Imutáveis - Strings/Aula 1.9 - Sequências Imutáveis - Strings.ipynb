{
 "cells": [
  {
   "cell_type": "code",
   "execution_count": null,
   "metadata": {},
   "outputs": [],
   "source": [
    "# Documentação\n",
    "# https://docs.python.org/3.7/library/string.html\n",
    "# https://docs.python.org/3.7/library/stdtypes.html#textseq"
   ]
  },
  {
   "cell_type": "code",
   "execution_count": 4,
   "metadata": {},
   "outputs": [
    {
     "data": {
      "text/plain": [
       "str"
      ]
     },
     "execution_count": 4,
     "metadata": {},
     "output_type": "execute_result"
    }
   ],
   "source": [
    "# Criando Strings\n",
    "# '', \"\" ou \"\"\"\"\"\"\n",
    "type(\"\"\"Jegue\n",
    "asdsa\n",
    "asd\n",
    "asd\"\"\")"
   ]
  },
  {
   "cell_type": "code",
   "execution_count": 9,
   "metadata": {},
   "outputs": [
    {
     "data": {
      "text/plain": [
       "'urno'"
      ]
     },
     "execution_count": 9,
     "metadata": {},
     "output_type": "execute_result"
    }
   ],
   "source": [
    "# Obtendo \"pedaços\" da string usando []\n",
    "\"Saturno\"[3:7]"
   ]
  },
  {
   "cell_type": "code",
   "execution_count": 10,
   "metadata": {},
   "outputs": [
    {
     "data": {
      "text/plain": [
       "'Meu nome é Zurubabel'"
      ]
     },
     "execution_count": 10,
     "metadata": {},
     "output_type": "execute_result"
    }
   ],
   "source": [
    "# Formatando Strings\n",
    "# Usando %s (Não usar)\n",
    "\"Meu nome é %s\" % \"Zurubabel\""
   ]
  },
  {
   "cell_type": "code",
   "execution_count": 15,
   "metadata": {},
   "outputs": [
    {
     "data": {
      "text/plain": [
       "'O marea bateu no corsa e capotou. O marea explodiu'"
      ]
     },
     "execution_count": 15,
     "metadata": {},
     "output_type": "execute_result"
    }
   ],
   "source": [
    "# Usando format {}, {número} e {nome}\n",
    "# \"O {} foi no mato e morreu\".format(\"Chico Virilha\")\n",
    "# \"O {} foi no mato e {}\".format(\"dormiu\", \"Chico Virilha\")\n",
    "# \"O {0} foi com {1} no {2} e {1} bebeu cachaça com {0}\".format(\"Chico Virilha\", \"Kid Bengala\", \"cinema\")\n",
    "\"O {carro1} bateu no {carro2} e capotou. O {carro1} explodiu\".format(carro2 = \"corsa\", carro1 = \"marea\")"
   ]
  },
  {
   "cell_type": "code",
   "execution_count": 20,
   "metadata": {},
   "outputs": [
    {
     "data": {
      "text/plain": [
       "'1112345.3'"
      ]
     },
     "execution_count": 20,
     "metadata": {},
     "output_type": "execute_result"
    }
   ],
   "source": [
    "# Formatando números\n",
    "\"{:5.1f}\".format(1112345.33687)"
   ]
  }
 ],
 "metadata": {
  "kernelspec": {
   "display_name": "Python 3",
   "language": "python",
   "name": "python3"
  },
  "language_info": {
   "codemirror_mode": {
    "name": "ipython",
    "version": 3
   },
   "file_extension": ".py",
   "mimetype": "text/x-python",
   "name": "python",
   "nbconvert_exporter": "python",
   "pygments_lexer": "ipython3",
   "version": "3.6.7"
  }
 },
 "nbformat": 4,
 "nbformat_minor": 2
}
