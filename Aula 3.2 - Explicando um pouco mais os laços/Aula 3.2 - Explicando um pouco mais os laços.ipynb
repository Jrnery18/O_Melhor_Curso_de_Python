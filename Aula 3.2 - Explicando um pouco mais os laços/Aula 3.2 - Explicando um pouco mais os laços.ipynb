{
 "cells": [
  {
   "cell_type": "code",
   "execution_count": 1,
   "metadata": {},
   "outputs": [
    {
     "name": "stdout",
     "output_type": "stream",
     "text": [
      "C\n",
      "h\n",
      "u\n",
      "r\n",
      "r\n",
      "o\n",
      "s\n"
     ]
    }
   ],
   "source": [
    "for x in \"Churros\":\n",
    "    print(x)"
   ]
  },
  {
   "cell_type": "code",
   "execution_count": 4,
   "metadata": {},
   "outputs": [
    {
     "name": "stdout",
     "output_type": "stream",
     "text": [
      "J\n",
      "o\n",
      "n\n",
      "N\n",
      "e\n",
      "v\n",
      "e\n",
      "s\n"
     ]
    }
   ],
   "source": [
    "for x in [\"Jon\", \"Neves\"]:\n",
    "    for letra in x:\n",
    "        print(letra)"
   ]
  },
  {
   "cell_type": "code",
   "execution_count": 7,
   "metadata": {},
   "outputs": [
    {
     "name": "stdout",
     "output_type": "stream",
     "text": [
      "João Neves\n",
      "Daneris Targueri\n",
      "Claudinor Snow\n"
     ]
    }
   ],
   "source": [
    "#for nome, sobrenome in [\"João\", \"Neves\"), (\"Daneris\", \"Targueri\"), (\"Claudinor\", \"Snow\")]:\n",
    "for nome, sobrenome in [[\"João\", \"Neves\"], [\"Daneris\", \"Targueri\"], [\"Claudinor\", \"Snow\"]]:\n",
    "    print(\"{} {}\".format(nome, sobrenome))"
   ]
  },
  {
   "cell_type": "code",
   "execution_count": 9,
   "metadata": {},
   "outputs": [
    {
     "name": "stdout",
     "output_type": "stream",
     "text": [
      "O número 0 é par\n",
      "O número 1 é ímpar\n",
      "O número 2 é par\n",
      "O número 3 é ímpar\n",
      "O número 4 é par\n",
      "O número 5 é ímpar\n",
      "O número 6 é par\n",
      "O número 7 é ímpar\n",
      "O número 8 é par\n",
      "O número 9 é ímpar\n",
      "O número 10 é par\n",
      "O número 11 é ímpar\n",
      "O número 12 é par\n",
      "O número 13 é ímpar\n",
      "O número 14 é par\n",
      "O número 15 é ímpar\n",
      "O número 16 é par\n",
      "O número 17 é ímpar\n",
      "O número 18 é par\n",
      "O número 19 é ímpar\n"
     ]
    }
   ],
   "source": [
    "for numero in range(20):\n",
    "    if numero % 2 == 0:\n",
    "        print(\"O número {} é par\".format(numero))\n",
    "    else:\n",
    "        print(\"O número {} é ímpar\".format(numero))"
   ]
  }
 ],
 "metadata": {
  "kernelspec": {
   "display_name": "Python 3",
   "language": "python",
   "name": "python3"
  },
  "language_info": {
   "codemirror_mode": {
    "name": "ipython",
    "version": 3
   },
   "file_extension": ".py",
   "mimetype": "text/x-python",
   "name": "python",
   "nbconvert_exporter": "python",
   "pygments_lexer": "ipython3",
   "version": "3.6.8"
  }
 },
 "nbformat": 4,
 "nbformat_minor": 2
}
