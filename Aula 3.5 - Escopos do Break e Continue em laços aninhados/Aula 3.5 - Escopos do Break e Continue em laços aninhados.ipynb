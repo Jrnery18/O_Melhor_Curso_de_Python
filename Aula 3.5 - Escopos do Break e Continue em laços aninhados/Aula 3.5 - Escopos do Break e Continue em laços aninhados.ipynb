{
 "cells": [
  {
   "cell_type": "code",
   "execution_count": 23,
   "metadata": {},
   "outputs": [],
   "source": [
    "from random import shuffle, random\n",
    "clientes = [\"Chico Tuíta\", \"Chapa de Chicrete\", \"Bigode de Arame\"]#, \"Zé Rosca-Frouxa\", \"Biricutico\", \"Mudrungo\"]\n",
    "produtos = [\"Rabo de galo\", \"Ovo colorido\", \"Costelinha de buteco\", \"Queijo de nózinho\"]"
   ]
  },
  {
   "cell_type": "code",
   "execution_count": null,
   "metadata": {},
   "outputs": [],
   "source": [
    "\"\"\"\n",
    "    Casos\n",
    "        Alérgico\n",
    "            Coma e continue\n",
    "            Coma e vá embora \n",
    "            Coma e morra\n",
    "        Morrer\n",
    "            Boteco continue\n",
    "            Boteco pare\n",
    "\"\"\""
   ]
  },
  {
   "cell_type": "code",
   "execution_count": 29,
   "metadata": {},
   "outputs": [
    {
     "name": "stdout",
     "output_type": "stream",
     "text": [
      "Chico Tuíta entrou no buteco\n",
      "---- Chico Tuíta consumiu um Costelinha de buteco\n",
      "----* Chico Tuíta bate um papo\n",
      "---- Chico Tuíta consumiu um Ovo colorido\n",
      "---- *** cof cof ***\n",
      "Chico Tuíta foi embora\n",
      "\n",
      "Chapa de Chicrete entrou no buteco\n",
      "---- Chapa de Chicrete consumiu um Rabo de galo\n",
      "----* Chapa de Chicrete bate um papo\n",
      "---- Chapa de Chicrete consumiu um Ovo colorido\n",
      "---- *** cof cof ***\n",
      "Chapa de Chicrete foi embora\n",
      "\n",
      "Bigode de Arame entrou no buteco\n",
      "---- Bigode de Arame consumiu um Rabo de galo\n",
      "----* Bigode de Arame pede pra tocar uma sofrência\n",
      "---- Bigode de Arame consumiu um Queijo de nózinho\n",
      "----* Bigode de Arame pede pra tocar uma sofrência\n",
      "---- Bigode de Arame consumiu um Ovo colorido\n",
      "---- *** cof cof ***\n",
      "Bigode de Arame foi embora\n",
      "\n"
     ]
    }
   ],
   "source": [
    "alergia = \"Ovo colorido\"\n",
    "\n",
    "for cliente in clientes:\n",
    "    print(f\"{cliente} entrou no buteco\")\n",
    "    \n",
    "    # Embaralha os produtos\n",
    "    shuffle(produtos)\n",
    "    # For do consumo\n",
    "    for produto in produtos:\n",
    "        print(f\"---- {cliente} consumiu um {produto}\")\n",
    "        \n",
    "        if produto == alergia:\n",
    "            print(\"---- *** cof cof ***\")\n",
    "            #continue\n",
    "            break\n",
    "            \n",
    "        if (random() * 10) > 5:\n",
    "            print(f\"----* {cliente} bate um papo\")\n",
    "        else:\n",
    "            print(f\"----* {cliente} pede pra tocar uma sofrência\")\n",
    "        \n",
    "    \n",
    "    print(f\"{cliente} foi embora\")\n",
    "    print(\"\")"
   ]
  }
 ],
 "metadata": {
  "kernelspec": {
   "display_name": "Python 3",
   "language": "python",
   "name": "python3"
  },
  "language_info": {
   "codemirror_mode": {
    "name": "ipython",
    "version": 3
   },
   "file_extension": ".py",
   "mimetype": "text/x-python",
   "name": "python",
   "nbconvert_exporter": "python",
   "pygments_lexer": "ipython3",
   "version": "3.6.8"
  }
 },
 "nbformat": 4,
 "nbformat_minor": 2
}
