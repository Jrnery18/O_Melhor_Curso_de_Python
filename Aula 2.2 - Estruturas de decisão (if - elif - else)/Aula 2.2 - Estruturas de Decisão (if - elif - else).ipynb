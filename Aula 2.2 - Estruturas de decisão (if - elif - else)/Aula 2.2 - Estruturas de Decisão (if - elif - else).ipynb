{
 "cells": [
  {
   "cell_type": "code",
   "execution_count": null,
   "metadata": {},
   "outputs": [],
   "source": [
    "# https://docs.python.org/3.7/reference/compound_stmts.html"
   ]
  },
  {
   "cell_type": "code",
   "execution_count": 18,
   "metadata": {},
   "outputs": [
    {
     "name": "stdout",
     "output_type": "stream",
     "text": [
      "O valor do ingresso é 9.5\n"
     ]
    }
   ],
   "source": [
    "# Entendendo o if\n",
    "isEstudante = False\n",
    "isGravida = False\n",
    "idade = 84\n",
    "multiplicador_desconto = 0.95\n",
    "#isVeio = True\n",
    "\n",
    "valor_cinema = 10.0\n",
    "\n",
    "valor_final = valor_cinema\n",
    "\n",
    "if isEstudante == True:\n",
    "    valor_final = valor_final * 0.5\n",
    "elif idade >= 85:\n",
    "    valor_final = valor_final * 0.7\n",
    "elif isGravida == True:\n",
    "    valor_final = valor_final * 0.75\n",
    "else:\n",
    "    valor_final = valor_final * multiplicador_desconto\n",
    "\n",
    "#if idade >= 85:\n",
    "#    valor_final = valor_final * 0.7\n",
    "    \n",
    "print(\"O valor do ingresso é {}\".format(str(valor_final)))\n"
   ]
  }
 ],
 "metadata": {
  "kernelspec": {
   "display_name": "Python 3",
   "language": "python",
   "name": "python3"
  },
  "language_info": {
   "codemirror_mode": {
    "name": "ipython",
    "version": 3
   },
   "file_extension": ".py",
   "mimetype": "text/x-python",
   "name": "python",
   "nbconvert_exporter": "python",
   "pygments_lexer": "ipython3",
   "version": "3.6.8"
  }
 },
 "nbformat": 4,
 "nbformat_minor": 2
}
