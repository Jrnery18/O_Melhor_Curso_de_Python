{
 "cells": [
  {
   "cell_type": "code",
   "execution_count": 4,
   "metadata": {},
   "outputs": [],
   "source": [
    "# Importação\n",
    "import pyodbc"
   ]
  },
  {
   "cell_type": "code",
   "execution_count": 5,
   "metadata": {},
   "outputs": [],
   "source": [
    "# Função de retornar a conexão\n",
    "def retornar_conexao_sql():\n",
    "    server = \"DESKTOP-15TQLGD\\SQLEXPRESS\"\n",
    "    database = \"Base_MCDP\"\n",
    "    #username = \"aula_mongodb\"\n",
    "    #password = \"abc123\"\n",
    "    #string_conexao = 'Driver={SQL Server Native Client 11.0};Server='+server+';Database='+database+';UID='+username+';PWD='+ password\n",
    "    string_conexao = 'Driver={SQL Server Native Client 11.0};Server='+server+';Database='+database+';Trusted_Connection=yes;'\n",
    "    conexao = pyodbc.connect(string_conexao)\n",
    "    return conexao.cursor()"
   ]
  },
  {
   "cell_type": "code",
   "execution_count": 7,
   "metadata": {},
   "outputs": [],
   "source": [
    "# Variável do cursor\n",
    "cursor = retornar_conexao_sql()"
   ]
  },
  {
   "cell_type": "code",
   "execution_count": 8,
   "metadata": {},
   "outputs": [
    {
     "name": "stdout",
     "output_type": "stream",
     "text": [
      "(1, )\n"
     ]
    }
   ],
   "source": [
    "# Seleção de teste\n",
    "\n",
    "cursor.execute(\"SELECT numero FROM tbl_Teste\")\n",
    "row = cursor.fetchone()\n",
    "if row:\n",
    "    print(row)"
   ]
  }
 ],
 "metadata": {
  "kernelspec": {
   "display_name": "Python 3",
   "language": "python",
   "name": "python3"
  },
  "language_info": {
   "codemirror_mode": {
    "name": "ipython",
    "version": 3
   },
   "file_extension": ".py",
   "mimetype": "text/x-python",
   "name": "python",
   "nbconvert_exporter": "python",
   "pygments_lexer": "ipython3",
   "version": "3.6.8"
  }
 },
 "nbformat": 4,
 "nbformat_minor": 2
}
