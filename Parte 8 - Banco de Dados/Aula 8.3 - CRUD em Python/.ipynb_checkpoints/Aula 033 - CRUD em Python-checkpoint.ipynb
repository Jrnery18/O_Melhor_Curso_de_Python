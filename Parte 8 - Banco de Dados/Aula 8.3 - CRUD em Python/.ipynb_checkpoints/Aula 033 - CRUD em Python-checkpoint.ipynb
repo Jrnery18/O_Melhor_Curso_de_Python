{
 "cells": [
  {
   "cell_type": "code",
   "execution_count": 2,
   "metadata": {},
   "outputs": [],
   "source": [
    "# Importação\n",
    "import pyodbc"
   ]
  },
  {
   "cell_type": "code",
   "execution_count": 11,
   "metadata": {},
   "outputs": [],
   "source": [
    "# Função de retornar a conexão\n",
    "def retornar_conexao_sql():\n",
    "    server = \"DESKTOP-15TQLGD\\SQLEXPRESS\"\n",
    "    database = \"Base_MCDP\"\n",
    "    #username = \"aula_mongodb\"\n",
    "    #password = \"abc123\"\n",
    "    #string_conexao = 'Driver={SQL Server Native Client 11.0};Server='+server+';Database='+database+';UID='+username+';PWD='+ password\n",
    "    string_conexao = 'Driver={SQL Server Native Client 11.0};Server='+server+';Database='+database+';Trusted_Connection=yes;'\n",
    "    return pyodbc.connect(string_conexao)"
   ]
  },
  {
   "cell_type": "code",
   "execution_count": 12,
   "metadata": {},
   "outputs": [],
   "source": [
    "# Variável do cursor\n",
    "conexao = retornar_conexao_sql()\n",
    "cursor = conexao.cursor()"
   ]
  },
  {
   "cell_type": "code",
   "execution_count": null,
   "metadata": {},
   "outputs": [],
   "source": [
    "# CRUD"
   ]
  },
  {
   "cell_type": "code",
   "execution_count": 26,
   "metadata": {},
   "outputs": [
    {
     "name": "stdout",
     "output_type": "stream",
     "text": [
      "(1, 'Zurubabel', 31)\n"
     ]
    }
   ],
   "source": [
    "# R - Read\n",
    "# Diferença entre fetchone() e fetchall()\n",
    "\n",
    "sql = \"SELECT * FROM tbl_Pessoas;\"\n",
    "cursor.execute(sql)\n",
    "\n",
    "#linha = cursor.fetchone()\n",
    "#linhas = cursor.fetchone()\n",
    "linhas = cursor.fetchall()\n",
    "\n",
    "for linha in linhas:\n",
    "    print(linha)\n"
   ]
  },
  {
   "cell_type": "code",
   "execution_count": 22,
   "metadata": {},
   "outputs": [
    {
     "data": {
      "text/plain": [
       "<pyodbc.Cursor at 0x16730aabe40>"
      ]
     },
     "execution_count": 22,
     "metadata": {},
     "output_type": "execute_result"
    }
   ],
   "source": [
    "# C - Create (INSERT)\n",
    "sql = \"INSERT INTO tbl_Pessoas VALUES (2, 'Josias', 66)\"\n",
    "\n",
    "cursor.execute(sql)"
   ]
  },
  {
   "cell_type": "code",
   "execution_count": 23,
   "metadata": {},
   "outputs": [],
   "source": [
    "conexao.commit()"
   ]
  },
  {
   "cell_type": "code",
   "execution_count": 17,
   "metadata": {},
   "outputs": [],
   "source": [
    "# U - Update\n",
    "sql = \"UPDATE tbl_Pessoas SET Idade = 31 WHERE cdPessoa = 1\"\n",
    "cursor.execute(sql)\n",
    "conexao.commit()"
   ]
  },
  {
   "cell_type": "code",
   "execution_count": 25,
   "metadata": {},
   "outputs": [],
   "source": [
    "# D - Delete\n",
    "sql = \"DELETE FROM tbl_Pessoas where cdPessoa = 2\"\n",
    "cursor.execute(sql)\n",
    "conexao.commit()"
   ]
  }
 ],
 "metadata": {
  "kernelspec": {
   "display_name": "Python 3",
   "language": "python",
   "name": "python3"
  },
  "language_info": {
   "codemirror_mode": {
    "name": "ipython",
    "version": 3
   },
   "file_extension": ".py",
   "mimetype": "text/x-python",
   "name": "python",
   "nbconvert_exporter": "python",
   "pygments_lexer": "ipython3",
   "version": "3.6.8"
  }
 },
 "nbformat": 4,
 "nbformat_minor": 2
}
