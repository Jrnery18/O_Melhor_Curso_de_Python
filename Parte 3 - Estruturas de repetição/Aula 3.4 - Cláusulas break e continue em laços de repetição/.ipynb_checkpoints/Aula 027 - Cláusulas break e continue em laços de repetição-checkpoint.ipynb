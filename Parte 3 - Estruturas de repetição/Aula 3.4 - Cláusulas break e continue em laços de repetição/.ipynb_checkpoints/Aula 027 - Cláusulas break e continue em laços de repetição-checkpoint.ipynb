{
 "cells": [
  {
   "cell_type": "code",
   "execution_count": null,
   "metadata": {},
   "outputs": [],
   "source": [
    "# Situações diferentes"
   ]
  },
  {
   "cell_type": "code",
   "execution_count": null,
   "metadata": {},
   "outputs": [],
   "source": [
    "# Diferença entre o continue e o break"
   ]
  },
  {
   "cell_type": "code",
   "execution_count": 10,
   "metadata": {},
   "outputs": [],
   "source": [
    "# Preparando os exemplos\n",
    "from random import shuffle\n",
    "clientes = [\"Chico Tuíta\", \"Chapa de Chicrete\", \"Bigode de Arame\", \"Zé Rosca-Frouxa\", \"Biricutico\", \"Mudrungo\"]"
   ]
  },
  {
   "cell_type": "code",
   "execution_count": 13,
   "metadata": {},
   "outputs": [
    {
     "name": "stdout",
     "output_type": "stream",
     "text": [
      "Zé Rosca-Frouxa entrou no buteco\n",
      "Chapa de Chicrete entrou no buteco\n",
      "Biricutico entrou no buteco\n",
      "Chico Tuíta não entrou\n",
      "Mudrungo entrou no buteco\n",
      "Bigode de Arame entrou no buteco\n"
     ]
    }
   ],
   "source": [
    "# Exemplo do continue\n",
    "banido = \"Chico Tuíta\"\n",
    "shuffle(clientes)\n",
    "\n",
    "for cliente in clientes:\n",
    "    if cliente == banido:\n",
    "        print(\"{} não entrou\".format(banido))\n",
    "        continue    \n",
    "    print(\"{} entrou no buteco\".format(cliente))\n",
    "        \n"
   ]
  },
  {
   "cell_type": "code",
   "execution_count": 23,
   "metadata": {},
   "outputs": [
    {
     "name": "stdout",
     "output_type": "stream",
     "text": [
      "Chico Tuíta não entrou e fecha a fila\n"
     ]
    }
   ],
   "source": [
    "# Exemplo de break\n",
    "# Exemplo do continue\n",
    "banido = \"Chico Tuíta\"\n",
    "shuffle(clientes)\n",
    "\n",
    "for cliente in clientes:\n",
    "    if cliente == banido:\n",
    "        print(\"{} não entrou e fecha a fila\".format(banido))\n",
    "        break    \n",
    "    print(\"{} entrou no buteco\".format(cliente))\n",
    "        \n"
   ]
  }
 ],
 "metadata": {
  "kernelspec": {
   "display_name": "Python 3",
   "language": "python",
   "name": "python3"
  },
  "language_info": {
   "codemirror_mode": {
    "name": "ipython",
    "version": 3
   },
   "file_extension": ".py",
   "mimetype": "text/x-python",
   "name": "python",
   "nbconvert_exporter": "python",
   "pygments_lexer": "ipython3",
   "version": "3.6.8"
  }
 },
 "nbformat": 4,
 "nbformat_minor": 2
}
