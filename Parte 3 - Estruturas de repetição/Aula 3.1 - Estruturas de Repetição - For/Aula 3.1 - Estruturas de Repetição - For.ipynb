{
 "cells": [
  {
   "cell_type": "code",
   "execution_count": null,
   "metadata": {},
   "outputs": [],
   "source": [
    "# Explicando um laço"
   ]
  },
  {
   "cell_type": "code",
   "execution_count": null,
   "metadata": {},
   "outputs": [],
   "source": [
    "# Diferença do laço do python com o do javascript"
   ]
  },
  {
   "cell_type": "code",
   "execution_count": 15,
   "metadata": {},
   "outputs": [
    {
     "name": "stdout",
     "output_type": "stream",
     "text": [
      "Rob\n",
      "erv\n",
      "âni\n",
      "a\n"
     ]
    }
   ],
   "source": [
    "# Usando o for\n",
    "i = 0\n",
    "retorno = \"\"\n",
    "for letra in \"Robervânia\":\n",
    "    retorno += letra\n",
    "    i += 1\n",
    "    if i > 2:\n",
    "        print(retorno)\n",
    "        retorno = \"\"\n",
    "        i = 0\n",
    "else: #For do Python tem um ELSE\n",
    "    print(letra)\n"
   ]
  },
  {
   "cell_type": "code",
   "execution_count": 17,
   "metadata": {},
   "outputs": [
    {
     "name": "stdout",
     "output_type": "stream",
     "text": [
      "Chico Virilha\n",
      "Zezão da Mandinga\n",
      "Betão Rosca Solta\n",
      "Zézo Moela\n",
      "Cabrinho Fí di Chica\n",
      "Soção dos Boi\n",
      "15/12/75\n",
      "13/01/81\n",
      "25/12/90\n",
      "02/11/87\n",
      "27/06/87\n",
      "01/01/68\n"
     ]
    }
   ],
   "source": [
    "# Retornando múltiplos resultados\n",
    "nomes = [\"Chico Virilha\", \"Zezão da Mandinga\", \"Betão Rosca Solta\", \"Zézo Moela\", \"Cabrinho Fí di Chica\", \"Soção dos Boi\"]\n",
    "\n",
    "for nome in nomes:\n",
    "    print(nome)\n",
    "\n",
    "aniversarios = [\"15/12/75\", \"13/01/81\", \"25/12/90\", \"02/11/87\", \"27/06/87\", \"01/01/68\"]\n",
    "\n",
    "for aniversario in aniversarios:\n",
    "    print(aniversario)"
   ]
  },
  {
   "cell_type": "code",
   "execution_count": 4,
   "metadata": {},
   "outputs": [
    {
     "name": "stdout",
     "output_type": "stream",
     "text": [
      "Chico Virilha faz aniversário em 15/12/75\n",
      "Zezão da Mandinga faz aniversário em 13/01/81\n"
     ]
    }
   ],
   "source": [
    "# print(\"{} faz aniversário em {}\".format(nomes[0], aniversarios[0]))\n",
    "# print(\"{} faz aniversário em {}\".format(nomes[1], aniversarios[1]))"
   ]
  },
  {
   "cell_type": "code",
   "execution_count": 21,
   "metadata": {},
   "outputs": [
    {
     "name": "stdout",
     "output_type": "stream",
     "text": [
      "O aniversário do Chico Virilha é dia 15/12/75\n",
      "O aniversário do Zezão da Mandinga é dia 13/01/81\n",
      "O aniversário do Betão Rosca Solta é dia 25/12/90\n",
      "O aniversário do Zézo Moela é dia 02/11/87\n",
      "O aniversário do Cabrinho Fí di Chica é dia 27/06/87\n",
      "O aniversário do Soção dos Boi é dia 01/01/68\n"
     ]
    }
   ],
   "source": [
    "nomes = [\"Chico Virilha\", \"Zezão da Mandinga\", \"Betão Rosca Solta\", \"Zézo Moela\", \"Cabrinho Fí di Chica\", \"Soção dos Boi\"]\n",
    "aniversarios = [\"15/12/75\", \"13/01/81\", \"25/12/90\", \"02/11/87\", \"27/06/87\", \"01/01/68\"]\n",
    "\n",
    "nomes_aniversarios = list(zip(nomes, aniversarios))\n",
    "\n",
    "for nome, aniversario in nomes_aniversarios:\n",
    "    print(\"O aniversário do {} é dia {}\".format(nome, aniversario))"
   ]
  }
 ],
 "metadata": {
  "kernelspec": {
   "display_name": "Python 3",
   "language": "python",
   "name": "python3"
  },
  "language_info": {
   "codemirror_mode": {
    "name": "ipython",
    "version": 3
   },
   "file_extension": ".py",
   "mimetype": "text/x-python",
   "name": "python",
   "nbconvert_exporter": "python",
   "pygments_lexer": "ipython3",
   "version": "3.6.8"
  }
 },
 "nbformat": 4,
 "nbformat_minor": 2
}
